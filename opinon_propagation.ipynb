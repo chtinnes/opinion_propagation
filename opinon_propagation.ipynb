{
 "cells": [
  {
   "cell_type": "markdown",
   "metadata": {},
   "source": [
    "# A propaganda *Simulation* - Facts and False Balancing\n",
    "The following notebook simulates the effects of social networks on opinion propagation.\n",
    "Based on an interview of Jeff Bezos, the idea underlying the experiments in this notebook are the following: \n",
    "Humans are social animals. Social networks propagate opinions about something. Anyway there are opinions that are hard to prove and other opinions -- **facts** -- that are either true (*truth*) or false (*lie*). Even in the second case, **trust** in social networks can cause individuals in the network to believe in the *lie*. Anyway, as said by Jeff Bezos, in a healthy organization (e.g., a company, a state, or a society) usually **truth promoting mechanisms** are in place that give an advantage to the truth over the lie. These mechanism include discussions, scientific method, trustworthy fact-check entities (e.g., research departments), etc.\n",
    "\n",
    "Still, under some circumstances (e.g., when politicians -- i.e. very central nodes in a network -- spread lies), it might happen that the lie *wins* over the truth. In a very simplified simulation model, we study these effects.\n",
    "\n",
    "We consider a very **simplified scenario**. In this scenario there is someone who knows the truth and someone else who lies. Individuals in the social network look in their neighborhood (i.e., their first degree relationship). Based on their neighborhood, they change their *believe* about the truth value of the fact. Since there are mechanisms in place that favour the truth over the lie, the true opinion is weighted stronger than the lie. This weight is determined by a free parameter \\alpha. E.g., if alpha is 1.5 and 2 neighbors tell the truth while 3 are lieing it would be a tie (and then randomly the opinion will be determined). If alpha is 1.6 in the same scenario, the truth would win, if it's less than 1.5 the lie would win for this node. We then look at the distribution of truth and lie over time.\n",
    "\n",
    "We look into this distribution based on an initial opionon (or believe) of the social network, especially we try to simulate the impact of **false balancing**.\n",
    "\n",
    "Note that there are several works on mathematical models and more formal methods to study opinon propagation in social networks. Here, we only study a simplified opinon propagation with simulation, without any rigorous formal proofs."
   ]
  },
  {
   "cell_type": "markdown",
   "metadata": {},
   "source": [
    "# Some Interpretations"
   ]
  },
  {
   "cell_type": "markdown",
   "metadata": {},
   "source": [
    "Some words on trust: Trust might be very dangerous in some cases while it is good in others. We all know people that argue like: ``An expert said this, so you have to believe it.'' This form of trust can be dangerous, because the expert could either lie intentionally, be no expert, or have made some mistakes. Therefore blind trust without any truth favouring mechanisms cause an organization to more likly start believing in a lie, especially when false balancing in favour of the lie is in place.\n",
    "\n",
    "What we can clearly see from the simulations below is that a false balancing has a huge influence on the opinon propagation (even though in our model the opinon of influencer can be flipped in the same way everyones opinon can be flipped.). \n",
    "This even holds true if there are already truth promoting mechanisms in place that favor truth over lies. The false balancing effect (only in the initial opinon setup) kicks in really really hard. \n",
    "Roughly speaking, that means, if influencers are balanced, quickly the entire network will be balanced, even if influencers can be influenced like everyone else. \n",
    "\n",
    "Relating the results in our experiments to Noam Chomsky's propaganda model quickly shows, that also stable democracies are not necessarily fact seeking organizations. \n",
    "Having social network mechanisms for opinion propagation (and humans are social beings) one needs strong truth promoting mechanisms, to counter negative effects or false balancing effects.\n",
    "\n",
    "Also note that we do not want to state that every question can be answered by facts. Some questions use too vague language, or are too expensive to answer and a healthy gut feeling, experience, or historically similar questions/situations, have to be taken into account to built up an opinion about the topic. Unfortunatley also for facts, we can see that the opinion about these facts can be wrong or highly inbalanced. When talking about *lie*, we do not necessarily mean an intentional lie. It could also be a mistake (e.g., wrong results/measurements in experiments), random behaviour (e.g., an intelligence service that broadcasts false information for distraction)."
   ]
  },
  {
   "cell_type": "markdown",
   "metadata": {},
   "source": [
    "# Experiments"
   ]
  },
  {
   "cell_type": "markdown",
   "metadata": {},
   "source": [
    "## Parameter setup"
   ]
  },
  {
   "cell_type": "code",
   "execution_count": 9,
   "metadata": {},
   "outputs": [],
   "source": [
    "# The experiment parameters\n",
    "GRAPH_SIZE = 5000\n",
    "\n",
    "# Initial truth-ratio\n",
    "TRUTH_RATIO = 0.5\n",
    "\n",
    "# Initial opinon propagation (i.e., what pecentage of the network has an opinon, i.e., is not neutral)\n",
    "OPINION_RATIO = 0.4\n",
    "\n",
    "# Parameters for the skewed (balanced) drawing from the individuals.\n",
    "# Currently we use beta-distribution to draw from the nodes according to their eigenvector centrality (left = large centrality, right=low centrality)\n",
    "# Beta-distribution contains uniform distributions (alpha=1, beta=1), but also right-heavy(alpha > beta),or left-heavy(beta > alpha) ones.\n",
    "TRUTH_ALPHA = 1\n",
    "TRUTH_BETA = 1\n",
    "LIE_ALPHA = 1\n",
    "LIE_BETA = 1.5\n",
    "\n",
    "# Seed for the random number generator (for reproducability)\n",
    "RANDOM_SEED=42\n",
    "\n",
    "\n",
    "# Just of technical nature... you can ignore them\n",
    "LABEL_NAME = 'label'\n",
    "TRUTH_LABEL = 0\n",
    "LIE_LABEL = 1\n",
    "NEUTRAL_LABEL = 2\n",
    "SNAPSHOT_EVERY = 1"
   ]
  },
  {
   "cell_type": "markdown",
   "metadata": {},
   "source": [
    "## Utils (execute but ignore)"
   ]
  },
  {
   "cell_type": "code",
   "execution_count": 10,
   "metadata": {},
   "outputs": [],
   "source": [
    "import networkx as nx\n",
    "import numpy as np\n",
    "import matplotlib.pyplot as plt\n",
    "import random"
   ]
  },
  {
   "cell_type": "code",
   "execution_count": 11,
   "metadata": {},
   "outputs": [],
   "source": [
    "random.seed(RANDOM_SEED)"
   ]
  },
  {
   "cell_type": "code",
   "execution_count": 12,
   "metadata": {},
   "outputs": [],
   "source": [
    "def draw_graph(G: nx.Graph):\n",
    "    # draw the digraph\n",
    "    from networkx.drawing.nx_agraph import graphviz_layout\n",
    "    labels = nx.get_node_attributes(G, LABEL_NAME)\n",
    "    pos = graphviz_layout(G, prog=\"neato\")\n",
    "    plt.figure(1)\n",
    "    nx.draw(G, pos, arrows=True, node_color=\"grey\", with_labels=True, labels=labels)\n",
    "\n",
    "    # show the plot\n",
    "    plt.show()"
   ]
  },
  {
   "cell_type": "markdown",
   "metadata": {},
   "source": [
    "We define the function that reads out the public opinon from the graph, that is, how many individuals believe in the truth and how many in the lie."
   ]
  },
  {
   "cell_type": "code",
   "execution_count": 13,
   "metadata": {},
   "outputs": [],
   "source": [
    "def evaluate(G: nx.Graph):\n",
    "    all_labels = nx.get_node_attributes(G, LABEL_NAME)\n",
    "    sum_truth = sum([1 for label in all_labels.values() if label == TRUTH_LABEL])\n",
    "    sum_lie = sum([1 for label in all_labels.values() if label == LIE_LABEL])\n",
    "    sum_neutral = sum([1 for label in all_labels.values() if label == NEUTRAL_LABEL])\n",
    "\n",
    "    return sum_truth / G.number_of_nodes(), sum_lie / G.number_of_nodes(), sum_neutral / G.number_of_nodes()"
   ]
  },
  {
   "cell_type": "markdown",
   "metadata": {},
   "source": [
    "A method for balanced drawing from a list. Can be adapted to other distributions as well.\n",
    "Beta-distribution contains uniform distributions (alpha=1, beta=1), but also right-skewed(alpha > beta),\n",
    "or left-skewed(beta > alpha) ones."
   ]
  },
  {
   "cell_type": "code",
   "execution_count": 14,
   "metadata": {},
   "outputs": [],
   "source": [
    "WARNING_THRESHOLD = 0.05\n",
    "def draw_skewed(list_to_draw: list, sample_size: int, alpha: float, beta:float):\n",
    "    \n",
    "    # Other distributions (even real-world ones are conceivable here)\n",
    "    samples_unit_interval = np.random.beta(alpha,beta, size=sample_size)\n",
    "   \n",
    "    # multiply with len of list to get indices over the entire list range\n",
    "    samples = samples_unit_interval * (len(list_to_draw)-1)\n",
    "\n",
    "    # round the indices to the nearest integer\n",
    "    indices = list(set([int(round(sample)) for sample in samples]))\n",
    "    \n",
    "    # Note that we could be left with less then sample size samples, we just make sure that we do not loose too many\n",
    "    if (sample_size - len(indices))/sample_size > WARNING_THRESHOLD:\n",
    "        print(f\"We lost {sample_size - len(indices)} during sampling... If this happens too often consider some fix to this.\")\n",
    "\n",
    "    # now draw from the original list and return\n",
    "    chosen_entries = [list_to_draw[i] for i in indices]\n",
    "    \n",
    "    return chosen_entries"
   ]
  },
  {
   "cell_type": "markdown",
   "metadata": {},
   "source": [
    "## The social network graph"
   ]
  },
  {
   "cell_type": "markdown",
   "metadata": {},
   "source": [
    "We define the social network graph.\n",
    "We could also import some real-world network here. \n",
    "For simplicity we generate some random scale-free graph."
   ]
  },
  {
   "cell_type": "code",
   "execution_count": 15,
   "metadata": {},
   "outputs": [],
   "source": [
    "def setup_network(network_size:int = GRAPH_SIZE):\n",
    "    # TODO we can also study the influence of the scale-free-graph parameters\n",
    "    intermediate = nx.scale_free_graph(network_size)\n",
    "    # this function returned a graph with a large in degree of central nodes... we basically want the reverse  of this,\n",
    "    # i.e., central nodes (politicians, media, etc. are huge senders of information and not receivers)\n",
    "    social_network = intermediate.reverse()\n",
    "    return social_network"
   ]
  },
  {
   "cell_type": "code",
   "execution_count": 16,
   "metadata": {},
   "outputs": [],
   "source": [
    "#network = setup_network(50)\n",
    "#draw_graph(network)"
   ]
  },
  {
   "cell_type": "markdown",
   "metadata": {},
   "source": [
    "## The initial opinion"
   ]
  },
  {
   "cell_type": "markdown",
   "metadata": {},
   "source": [
    "Since we want to study false balancing, we sort the individuals in the social network according to their centrality (decending order). Nodes with a larger centrality typically have a larger impact on other nodes (e.g., politicians, media, influencers, stars, etc.). We then define the initial opinion distribution of the *truth* and the *lie* over the individuals.\n",
    "We draw samples using skewed distributions. Note that these distributions are also some part of our modeling and have to be taken with care since they probably do not conform to real-world distributions of opinions!"
   ]
  },
  {
   "cell_type": "code",
   "execution_count": 17,
   "metadata": {},
   "outputs": [],
   "source": [
    "def setup_initial_opinon(social_network: nx.Graph, \n",
    "                         truth_ratio: float=TRUTH_RATIO, \n",
    "                         opinion_ratio:float=OPINION_RATIO,\n",
    "                         truth_alpha:float=TRUTH_ALPHA,\n",
    "                         truth_beta:float=TRUTH_BETA,\n",
    "                         lie_alpha:float=LIE_ALPHA,\n",
    "                         lie_beta:float=LIE_BETA\n",
    "                         ):\n",
    "    # compute the degree centrality for all nodes\n",
    "    degree_centrality = nx.degree_centrality(social_network)\n",
    "\n",
    "    # sort the nodes by degree centrality in descending order\n",
    "    sorted_nodes = sorted(degree_centrality, key=degree_centrality.get, reverse=True)\n",
    "    \n",
    "    # number of nodes not being neural\n",
    "    opinon_node_count = opinion_ratio * len(sorted_nodes)\n",
    "    \n",
    "    # number of truth nodes\n",
    "    truth_node_count = int(truth_ratio * opinon_node_count)\n",
    "    \n",
    "    # number of lie nodes\n",
    "    lie_node_count = int(opinon_node_count - truth_node_count)\n",
    "    \n",
    "    # selection for the truth nodes\n",
    "    truth_nodes = draw_skewed(sorted_nodes, truth_node_count, truth_alpha, truth_beta)\n",
    "    \n",
    "    # selection for the lie nodes\n",
    "    lie_nodes = draw_skewed(sorted_nodes, lie_node_count, lie_alpha, lie_beta)\n",
    "    \n",
    "    truth_nodes_labels = {node: {LABEL_NAME: TRUTH_LABEL} for node in truth_nodes}\n",
    "    lie_nodes_labels = {node: {LABEL_NAME: LIE_LABEL} for node in lie_nodes}\n",
    "    \n",
    "    # nodes that are truth and lie stay neutral. We therefore remove them\n",
    "    keys_in_both = set(truth_nodes_labels.keys()) & set(lie_nodes_labels.keys())\n",
    "    truth_nodes_labels = {k: truth_nodes_labels[k] for k, _ in truth_nodes_labels.items() if k not in keys_in_both} \n",
    "    lie_nodes_labels = {k: lie_nodes_labels[k] for k, _ in lie_nodes_labels.items() if k not in keys_in_both} \n",
    "\n",
    "\n",
    "    # Set node labels\n",
    "    nx.set_node_attributes(social_network, truth_nodes_labels)\n",
    "    nx.set_node_attributes(social_network, lie_nodes_labels)\n",
    "   \n",
    "    return social_network"
   ]
  },
  {
   "cell_type": "markdown",
   "metadata": {},
   "source": [
    "## The opinion propagation"
   ]
  },
  {
   "cell_type": "markdown",
   "metadata": {},
   "source": [
    "Now we define the propagation mechanism. This is the easiest i could imagine. The first extension could be to consider propagation more probabilistic. Instead of large value wins one could consider this in a probabilistic manner, i.e., the truth value of the neighborhood define the probablity of assuming the opinon. Furthermore, one could define different characters of nodes. Some that rather check the opinon and have a higher probability to believe the truth and some that rather spread lies, etc. I.e., we can study a lot here but we wanted to keep things simple."
   ]
  },
  {
   "cell_type": "code",
   "execution_count": 18,
   "metadata": {},
   "outputs": [],
   "source": [
    "def propagate_step(G: nx.Graph, alpha=1.5) -> nx.Graph:\n",
    "    # For every node, we retrieve it's in-neighborhood.\n",
    "    nodes = G.nodes()\n",
    "    # graph node labels (truth values)\n",
    "    all_labels = nx.get_node_attributes(G, LABEL_NAME)\n",
    "    \n",
    "    node_labels = dict()\n",
    "    for node in nodes:\n",
    "        \n",
    "        if node in all_labels.keys():\n",
    "            node_label = all_labels[node]\n",
    "        else:\n",
    "            node_label = NEUTRAL_LABEL            \n",
    "        \n",
    "        # get the in neighbors of node n\n",
    "        in_neighbors = list(G.predecessors(node))\n",
    "        \n",
    "        # We select and count all turth neighbors... can be done more efficiently... in case this becomes a bottleneck\n",
    "        true_neighbors = [neighbor for neighbor in in_neighbors if neighbor in all_labels.keys() and all_labels[neighbor] == TRUTH_LABEL]\n",
    "        lie_neighbors = [neighbor for neighbor in in_neighbors if neighbor in all_labels.keys() and all_labels[neighbor] == LIE_LABEL]\n",
    "        \n",
    "        sum_truth = len(true_neighbors)\n",
    "        sum_lie = len(lie_neighbors)\n",
    "        \n",
    "        value_truth = sum_truth*alpha\n",
    "        value_lie = sum_lie\n",
    "        \n",
    "        # add the original believe\n",
    "        if node_label == TRUTH_LABEL:\n",
    "            value_truth += 1*alpha\n",
    "        elif node_label == LIE_LABEL:\n",
    "            value_lie += 1\n",
    "        \n",
    "        # special case - not a known topic yet\n",
    "        if value_truth == 0 and value_lie == 0:\n",
    "            new_label = NEUTRAL_LABEL\n",
    "        elif value_truth > value_lie:\n",
    "            new_label = TRUTH_LABEL\n",
    "        elif value_truth < value_lie:\n",
    "            new_label = LIE_LABEL\n",
    "        # a tie\n",
    "        else:\n",
    "            new_label = NEUTRAL_LABEL\n",
    "            \n",
    "        node_labels[node] = {LABEL_NAME: new_label}\n",
    "    \n",
    "    nx.set_node_attributes(G, node_labels)\n",
    "    return G\n",
    "        "
   ]
  },
  {
   "cell_type": "markdown",
   "metadata": {},
   "source": [
    "Here come the propagation. We iterate the propagation several times (using a time parameter) and extract the ratio of truth, lie, and neutral opions from the network."
   ]
  },
  {
   "cell_type": "code",
   "execution_count": 19,
   "metadata": {},
   "outputs": [],
   "source": [
    "def propagate_loop(social_network: nx.Graph, timesteps:int, propagate_alpha:float=1.5):\n",
    "    idx = [-1]\n",
    "    truth_list = []\n",
    "    lie_list = []\n",
    "    neutral_list = []\n",
    "    p_truth, p_lie, p_neutral = evaluate(social_network)\n",
    "    truth_list.append(p_truth)\n",
    "    lie_list.append(p_lie)\n",
    "    neutral_list.append(p_neutral)\n",
    "\n",
    "    for time_step in range(timesteps):\n",
    "        social_network = propagate_step(social_network, alpha=propagate_alpha)\n",
    "        if time_step % SNAPSHOT_EVERY == 0:\n",
    "            idx.append(time_step)\n",
    "            p_truth, p_lie, p_neutral = evaluate(social_network)\n",
    "            truth_list.append(p_truth)\n",
    "            lie_list.append(p_lie)\n",
    "            neutral_list.append(p_neutral)\n",
    "    \n",
    "    return social_network, idx, truth_list, lie_list, neutral_list"
   ]
  },
  {
   "cell_type": "markdown",
   "metadata": {},
   "source": [
    "## Experiment Execution and Evaluation"
   ]
  },
  {
   "cell_type": "markdown",
   "metadata": {},
   "source": [
    "Note that the propagation is kind of static.\n",
    "The trajectory is determined solely by the parameter alpha corresponding to the increased likelyhood of believing the truth,\n",
    "and the initial distribution of the opinon and the skewedness of truth/lie towards central nodes (politicians, media etc.)"
   ]
  },
  {
   "cell_type": "code",
   "execution_count": 20,
   "metadata": {},
   "outputs": [
    {
     "name": "stdout",
     "output_type": "stream",
     "text": [
      "We lost 83 during sampling... If this happens too often consider some fix to this.\n",
      "We lost 101 during sampling... If this happens too often consider some fix to this.\n",
      "(0.1544, 0.1508, 0.0)\n"
     ]
    }
   ],
   "source": [
    "social_network = setup_network()\n",
    "setup_initial_opinon(social_network=social_network)\n",
    "print(evaluate(social_network))\n",
    "\n",
    "\n",
    "social_network, idx, truth_list, lie_list, neutral_list = propagate_loop(social_network=social_network, timesteps=10, propagate_alpha=1.5)"
   ]
  },
  {
   "cell_type": "code",
   "execution_count": 21,
   "metadata": {},
   "outputs": [
    {
     "data": {
      "image/png": "[encoded data removed]",
      "text/plain": [
       "<Figure size 640x480 with 1 Axes>"
      ]
     },
     "metadata": {},
     "output_type": "display_data"
    }
   ],
   "source": [
    "# Stacked bar chart\n",
    "plt.bar(idx, truth_list, width = 0.5, color='green')\n",
    "plt.bar(idx, lie_list, bottom = truth_list, width=0.5, color='red')\n",
    "plt.bar(idx, neutral_list, bottom = np.add(truth_list, lie_list), width=0.5, color='grey')\n",
    "plt.show()"
   ]
  },
  {
   "cell_type": "markdown",
   "metadata": {},
   "source": [
    "## A phase plot for the False Balancing"
   ]
  },
  {
   "cell_type": "markdown",
   "metadata": {},
   "source": [
    "Now, we vary the alpha terms (for the balancing in the most influencing individuals) for truth and lie in the initial setup and plot the majority in a two dimensional space."
   ]
  },
  {
   "cell_type": "code",
   "execution_count": 22,
   "metadata": {},
   "outputs": [
    {
     "name": "stdout",
     "output_type": "stream",
     "text": [
      "We lost 93 during sampling... If this happens too often consider some fix to this.\n",
      "We lost 101 during sampling... If this happens too often consider some fix to this.\n",
      "We lost 108 during sampling... If this happens too often consider some fix to this.\n",
      "We lost 90 during sampling... If this happens too often consider some fix to this.\n",
      "We lost 79 during sampling... If this happens too often consider some fix to this.\n",
      "We lost 117 during sampling... If this happens too often consider some fix to this.\n",
      "We lost 96 during sampling... If this happens too often consider some fix to this.\n",
      "We lost 101 during sampling... If this happens too often consider some fix to this.\n",
      "We lost 87 during sampling... If this happens too often consider some fix to this.\n",
      "We lost 102 during sampling... If this happens too often consider some fix to this.\n",
      "We lost 92 during sampling... If this happens too often consider some fix to this.\n",
      "We lost 101 during sampling... If this happens too often consider some fix to this.\n",
      "We lost 100 during sampling... If this happens too often consider some fix to this.\n",
      "We lost 110 during sampling... If this happens too often consider some fix to this.\n",
      "We lost 87 during sampling... If this happens too often consider some fix to this.\n",
      "We lost 106 during sampling... If this happens too often consider some fix to this.\n",
      "We lost 98 during sampling... If this happens too often consider some fix to this.\n",
      "We lost 123 during sampling... If this happens too often consider some fix to this.\n",
      "We lost 100 during sampling... If this happens too often consider some fix to this.\n",
      "We lost 115 during sampling... If this happens too often consider some fix to this.\n",
      "We lost 99 during sampling... If this happens too often consider some fix to this.\n",
      "We lost 120 during sampling... If this happens too often consider some fix to this.\n",
      "We lost 102 during sampling... If this happens too often consider some fix to this.\n",
      "We lost 109 during sampling... If this happens too often consider some fix to this.\n",
      "We lost 98 during sampling... If this happens too often consider some fix to this.\n",
      "We lost 112 during sampling... If this happens too often consider some fix to this.\n",
      "We lost 88 during sampling... If this happens too often consider some fix to this.\n",
      "We lost 121 during sampling... If this happens too often consider some fix to this.\n",
      "We lost 96 during sampling... If this happens too often consider some fix to this.\n",
      "We lost 92 during sampling... If this happens too often consider some fix to this.\n",
      "We lost 98 during sampling... If this happens too often consider some fix to this.\n",
      "We lost 104 during sampling... If this happens too often consider some fix to this.\n",
      "We lost 99 during sampling... If this happens too often consider some fix to this.\n",
      "We lost 108 during sampling... If this happens too often consider some fix to this.\n",
      "We lost 101 during sampling... If this happens too often consider some fix to this.\n",
      "We lost 98 during sampling... If this happens too often consider some fix to this.\n",
      "We lost 99 during sampling... If this happens too often consider some fix to this.\n",
      "We lost 107 during sampling... If this happens too often consider some fix to this.\n",
      "We lost 86 during sampling... If this happens too often consider some fix to this.\n",
      "We lost 107 during sampling... If this happens too often consider some fix to this.\n",
      "We lost 112 during sampling... If this happens too often consider some fix to this.\n",
      "We lost 117 during sampling... If this happens too often consider some fix to this.\n",
      "We lost 96 during sampling... If this happens too often consider some fix to this.\n",
      "We lost 90 during sampling... If this happens too often consider some fix to this.\n",
      "We lost 88 during sampling... If this happens too often consider some fix to this.\n",
      "We lost 99 during sampling... If this happens too often consider some fix to this.\n",
      "We lost 85 during sampling... If this happens too often consider some fix to this.\n",
      "We lost 98 during sampling... If this happens too often consider some fix to this.\n",
      "We lost 90 during sampling... If this happens too often consider some fix to this.\n",
      "We lost 95 during sampling... If this happens too often consider some fix to this.\n",
      "We lost 95 during sampling... If this happens too often consider some fix to this.\n",
      "We lost 107 during sampling... If this happens too often consider some fix to this.\n",
      "We lost 95 during sampling... If this happens too often consider some fix to this.\n",
      "We lost 94 during sampling... If this happens too often consider some fix to this.\n",
      "We lost 99 during sampling... If this happens too often consider some fix to this.\n",
      "We lost 97 during sampling... If this happens too often consider some fix to this.\n",
      "We lost 111 during sampling... If this happens too often consider some fix to this.\n",
      "We lost 108 during sampling... If this happens too often consider some fix to this.\n",
      "We lost 94 during sampling... If this happens too often consider some fix to this.\n",
      "We lost 104 during sampling... If this happens too often consider some fix to this.\n",
      "We lost 100 during sampling... If this happens too often consider some fix to this.\n",
      "We lost 107 during sampling... If this happens too often consider some fix to this.\n",
      "We lost 76 during sampling... If this happens too often consider some fix to this.\n",
      "We lost 109 during sampling... If this happens too often consider some fix to this.\n",
      "We lost 73 during sampling... If this happens too often consider some fix to this.\n",
      "We lost 115 during sampling... If this happens too often consider some fix to this.\n",
      "We lost 99 during sampling... If this happens too often consider some fix to this.\n",
      "We lost 94 during sampling... If this happens too often consider some fix to this.\n",
      "We lost 96 during sampling... If this happens too often consider some fix to this.\n",
      "We lost 96 during sampling... If this happens too often consider some fix to this.\n",
      "We lost 103 during sampling... If this happens too often consider some fix to this.\n",
      "We lost 108 during sampling... If this happens too often consider some fix to this.\n",
      "We lost 100 during sampling... If this happens too often consider some fix to this.\n",
      "We lost 109 during sampling... If this happens too often consider some fix to this.\n",
      "We lost 106 during sampling... If this happens too often consider some fix to this.\n",
      "We lost 85 during sampling... If this happens too often consider some fix to this.\n",
      "We lost 113 during sampling... If this happens too often consider some fix to this.\n",
      "We lost 100 during sampling... If this happens too often consider some fix to this.\n",
      "We lost 115 during sampling... If this happens too often consider some fix to this.\n",
      "We lost 89 during sampling... If this happens too often consider some fix to this.\n",
      "We lost 95 during sampling... If this happens too often consider some fix to this.\n",
      "We lost 89 during sampling... If this happens too often consider some fix to this.\n",
      "We lost 91 during sampling... If this happens too often consider some fix to this.\n",
      "We lost 106 during sampling... If this happens too often consider some fix to this.\n",
      "We lost 116 during sampling... If this happens too often consider some fix to this.\n",
      "We lost 107 during sampling... If this happens too often consider some fix to this.\n",
      "We lost 103 during sampling... If this happens too often consider some fix to this.\n",
      "We lost 89 during sampling... If this happens too often consider some fix to this.\n",
      "We lost 95 during sampling... If this happens too often consider some fix to this.\n",
      "We lost 100 during sampling... If this happens too often consider some fix to this.\n",
      "We lost 102 during sampling... If this happens too often consider some fix to this.\n",
      "We lost 114 during sampling... If this happens too often consider some fix to this.\n",
      "We lost 108 during sampling... If this happens too often consider some fix to this.\n",
      "We lost 89 during sampling... If this happens too often consider some fix to this.\n",
      "We lost 94 during sampling... If this happens too often consider some fix to this.\n",
      "We lost 115 during sampling... If this happens too often consider some fix to this.\n",
      "We lost 91 during sampling... If this happens too often consider some fix to this.\n",
      "We lost 120 during sampling... If this happens too often consider some fix to this.\n",
      "We lost 123 during sampling... If this happens too often consider some fix to this.\n",
      "We lost 107 during sampling... If this happens too often consider some fix to this.\n",
      "We lost 103 during sampling... If this happens too often consider some fix to this.\n",
      "We lost 104 during sampling... If this happens too often consider some fix to this.\n",
      "We lost 84 during sampling... If this happens too often consider some fix to this.\n",
      "We lost 110 during sampling... If this happens too often consider some fix to this.\n",
      "We lost 118 during sampling... If this happens too often consider some fix to this.\n",
      "We lost 100 during sampling... If this happens too often consider some fix to this.\n",
      "We lost 98 during sampling... If this happens too often consider some fix to this.\n",
      "We lost 94 during sampling... If this happens too often consider some fix to this.\n",
      "We lost 92 during sampling... If this happens too often consider some fix to this.\n",
      "We lost 91 during sampling... If this happens too often consider some fix to this.\n",
      "We lost 97 during sampling... If this happens too often consider some fix to this.\n",
      "We lost 87 during sampling... If this happens too often consider some fix to this.\n",
      "We lost 110 during sampling... If this happens too often consider some fix to this.\n",
      "We lost 83 during sampling... If this happens too often consider some fix to this.\n",
      "We lost 94 during sampling... If this happens too often consider some fix to this.\n",
      "We lost 104 during sampling... If this happens too often consider some fix to this.\n",
      "We lost 97 during sampling... If this happens too often consider some fix to this.\n",
      "We lost 119 during sampling... If this happens too often consider some fix to this.\n",
      "We lost 107 during sampling... If this happens too often consider some fix to this.\n",
      "We lost 107 during sampling... If this happens too often consider some fix to this.\n",
      "We lost 105 during sampling... If this happens too often consider some fix to this.\n",
      "We lost 92 during sampling... If this happens too often consider some fix to this.\n",
      "We lost 100 during sampling... If this happens too often consider some fix to this.\n",
      "We lost 80 during sampling... If this happens too often consider some fix to this.\n",
      "We lost 102 during sampling... If this happens too often consider some fix to this.\n",
      "We lost 80 during sampling... If this happens too often consider some fix to this.\n",
      "We lost 101 during sampling... If this happens too often consider some fix to this.\n",
      "We lost 91 during sampling... If this happens too often consider some fix to this.\n",
      "We lost 111 during sampling... If this happens too often consider some fix to this.\n",
      "We lost 102 during sampling... If this happens too often consider some fix to this.\n",
      "We lost 111 during sampling... If this happens too often consider some fix to this.\n",
      "We lost 96 during sampling... If this happens too often consider some fix to this.\n",
      "We lost 108 during sampling... If this happens too often consider some fix to this.\n",
      "We lost 88 during sampling... If this happens too often consider some fix to this.\n",
      "We lost 111 during sampling... If this happens too often consider some fix to this.\n",
      "We lost 120 during sampling... If this happens too often consider some fix to this.\n",
      "We lost 105 during sampling... If this happens too often consider some fix to this.\n",
      "We lost 111 during sampling... If this happens too often consider some fix to this.\n",
      "We lost 112 during sampling... If this happens too often consider some fix to this.\n",
      "We lost 111 during sampling... If this happens too often consider some fix to this.\n",
      "We lost 122 during sampling... If this happens too often consider some fix to this.\n",
      "We lost 111 during sampling... If this happens too often consider some fix to this.\n",
      "We lost 113 during sampling... If this happens too often consider some fix to this.\n",
      "We lost 95 during sampling... If this happens too often consider some fix to this.\n",
      "We lost 109 during sampling... If this happens too often consider some fix to this.\n",
      "We lost 102 during sampling... If this happens too often consider some fix to this.\n",
      "We lost 104 during sampling... If this happens too often consider some fix to this.\n",
      "We lost 102 during sampling... If this happens too often consider some fix to this.\n",
      "We lost 112 during sampling... If this happens too often consider some fix to this.\n",
      "We lost 96 during sampling... If this happens too often consider some fix to this.\n",
      "We lost 121 during sampling... If this happens too often consider some fix to this.\n",
      "We lost 111 during sampling... If this happens too often consider some fix to this.\n",
      "We lost 98 during sampling... If this happens too often consider some fix to this.\n",
      "We lost 99 during sampling... If this happens too often consider some fix to this.\n",
      "We lost 108 during sampling... If this happens too often consider some fix to this.\n",
      "We lost 113 during sampling... If this happens too often consider some fix to this.\n",
      "We lost 107 during sampling... If this happens too often consider some fix to this.\n",
      "We lost 103 during sampling... If this happens too often consider some fix to this.\n",
      "We lost 107 during sampling... If this happens too often consider some fix to this.\n",
      "We lost 98 during sampling... If this happens too often consider some fix to this.\n",
      "We lost 113 during sampling... If this happens too often consider some fix to this.\n",
      "We lost 110 during sampling... If this happens too often consider some fix to this.\n",
      "We lost 113 during sampling... If this happens too often consider some fix to this.\n",
      "We lost 114 during sampling... If this happens too often consider some fix to this.\n",
      "We lost 120 during sampling... If this happens too often consider some fix to this.\n",
      "We lost 104 during sampling... If this happens too often consider some fix to this.\n",
      "We lost 126 during sampling... If this happens too often consider some fix to this.\n",
      "We lost 96 during sampling... If this happens too often consider some fix to this.\n",
      "We lost 122 during sampling... If this happens too often consider some fix to this.\n",
      "We lost 91 during sampling... If this happens too often consider some fix to this.\n",
      "We lost 123 during sampling... If this happens too often consider some fix to this.\n",
      "We lost 104 during sampling... If this happens too often consider some fix to this.\n",
      "We lost 101 during sampling... If this happens too often consider some fix to this.\n",
      "We lost 97 during sampling... If this happens too often consider some fix to this.\n",
      "We lost 123 during sampling... If this happens too often consider some fix to this.\n",
      "We lost 101 during sampling... If this happens too often consider some fix to this.\n",
      "We lost 108 during sampling... If this happens too often consider some fix to this.\n",
      "We lost 104 during sampling... If this happens too often consider some fix to this.\n",
      "We lost 109 during sampling... If this happens too often consider some fix to this.\n",
      "We lost 101 during sampling... If this happens too often consider some fix to this.\n",
      "We lost 131 during sampling... If this happens too often consider some fix to this.\n",
      "We lost 89 during sampling... If this happens too often consider some fix to this.\n",
      "We lost 121 during sampling... If this happens too often consider some fix to this.\n",
      "We lost 103 during sampling... If this happens too often consider some fix to this.\n",
      "We lost 138 during sampling... If this happens too often consider some fix to this.\n",
      "We lost 93 during sampling... If this happens too often consider some fix to this.\n",
      "We lost 119 during sampling... If this happens too often consider some fix to this.\n",
      "We lost 86 during sampling... If this happens too often consider some fix to this.\n",
      "We lost 108 during sampling... If this happens too often consider some fix to this.\n",
      "We lost 98 during sampling... If this happens too often consider some fix to this.\n",
      "We lost 124 during sampling... If this happens too often consider some fix to this.\n",
      "We lost 92 during sampling... If this happens too often consider some fix to this.\n",
      "We lost 109 during sampling... If this happens too often consider some fix to this.\n",
      "We lost 111 during sampling... If this happens too often consider some fix to this.\n",
      "We lost 125 during sampling... If this happens too often consider some fix to this.\n",
      "We lost 116 during sampling... If this happens too often consider some fix to this.\n",
      "We lost 112 during sampling... If this happens too often consider some fix to this.\n",
      "We lost 103 during sampling... If this happens too often consider some fix to this.\n",
      "We lost 109 during sampling... If this happens too often consider some fix to this.\n",
      "We lost 103 during sampling... If this happens too often consider some fix to this.\n"
     ]
    }
   ],
   "source": [
    "# Truth promotion alpha\n",
    "TRUTH_PROMOTION_ALPHA = 2 # Large truth enforcements. it needs more than 3 liers to win over 2 people telling the truth....\n",
    "TIMESTAMPS_PER_PROPAGATION = 10\n",
    "step_size=0.05\n",
    "\n",
    "number_of_steps = int((2 - 1)/step_size)\n",
    "\n",
    "# we iterate over the alpha space from 1 to 2 in a grid loop \n",
    "outcomes = []\n",
    "for truth_alpha in np.arange(1, 2, step_size): \n",
    "    for lie_alpha in np.arange(1, 2, step_size): \n",
    "        social_network = setup_network()\n",
    "        setup_initial_opinon(social_network=social_network, \n",
    "                         truth_ratio=TRUTH_RATIO, \n",
    "                         opinion_ratio=OPINION_RATIO,\n",
    "                         truth_alpha=truth_alpha,\n",
    "                         truth_beta=TRUTH_BETA,\n",
    "                         lie_alpha=lie_alpha,\n",
    "                         lie_beta=LIE_BETA\n",
    "                         )\n",
    "        social_network, idx, truth_list, lie_list, neutral_list = propagate_loop(social_network=social_network, timesteps=TIMESTAMPS_PER_PROPAGATION, propagate_alpha=TRUTH_PROMOTION_ALPHA)\n",
    "        value_final = (truth_list[-1]/(truth_list[-1] + lie_list[-1]))\n",
    "        outcomes.append([truth_alpha, lie_alpha, value_final])"
   ]
  },
  {
   "cell_type": "code",
   "execution_count": 23,
   "metadata": {},
   "outputs": [],
   "source": [
    "plot_values = np.array(outcomes)\n",
    "import matplotlib.colors as mcolors\n",
    "cmap = mcolors.LinearSegmentedColormap.from_list('ggr', [(0, 'red'), (0.5, 'grey'), (1, 'green')])\n",
    "\n",
    "X, Y = np.meshgrid(plot_values[:, 0], plot_values[:, 1])"
   ]
  },
  {
   "cell_type": "code",
   "execution_count": 24,
   "metadata": {},
   "outputs": [],
   "source": [
    "number_of_steps = int((2 - 1)/step_size)\n",
    "number_of_values = number_of_steps**2\n",
    "z = np.zeros((number_of_values,number_of_values))\n",
    "for i in range(number_of_values):\n",
    "    for j in range(number_of_values):\n",
    "        it_truth = (X[i,j] - 1)/ step_size\n",
    "        it_lie = (Y[i,j] - 1)/ step_size\n",
    "        color_index = int(round(it_truth*number_of_steps + it_lie))\n",
    "        z[i,j] = plot_values[color_index, 2]"
   ]
  },
  {
   "cell_type": "code",
   "execution_count": 25,
   "metadata": {},
   "outputs": [
    {
     "name": "stderr",
     "output_type": "stream",
     "text": [
      "/var/folders/tz/x9zmsny551557y_7gwtsbhgw0000gn/T/ipykernel_69926/3448814300.py:1: UserWarning: The input coordinates to pcolormesh are interpreted as cell centers, but are not monotonically increasing or decreasing. This may lead to incorrectly calculated cell edges, in which case, please supply explicit cell edges to pcolormesh.\n",
      "  plt.pcolormesh(X,Y, z, cmap=cmap)\n"
     ]
    },
    {
     "data": {
      "image/png": "[encoded data removed]",
      "text/plain": [
       "<Figure size 640x480 with 2 Axes>"
      ]
     },
     "metadata": {},
     "output_type": "display_data"
    }
   ],
   "source": [
    "plt.pcolormesh(X,Y, z, cmap=cmap)\n",
    "plt.colorbar()\n",
    "plt.show()"
   ]
  }
 ],
 "metadata": {
  "kernelspec": {
   "display_name": "lm_miner",
   "language": "python",
   "name": "python3"
  },
  "language_info": {
   "codemirror_mode": {
    "name": "ipython",
    "version": 3
   },
   "file_extension": ".py",
   "mimetype": "text/x-python",
   "name": "python",
   "nbconvert_exporter": "python",
   "pygments_lexer": "ipython3",
   "version": "3.10.6"
  }
 },
 "nbformat": 4,
 "nbformat_minor": 2
}
